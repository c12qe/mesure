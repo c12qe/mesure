{
 "cells": [
  {
   "cell_type": "markdown",
   "id": "47c8a431",
   "metadata": {},
   "source": [
    "# Autotuning Notebook"
   ]
  },
  {
   "cell_type": "markdown",
   "id": "f2e6963b",
   "metadata": {},
   "source": [
    "## Import Library"
   ]
  },
  {
   "cell_type": "code",
   "execution_count": 1,
   "id": "9a1de666",
   "metadata": {},
   "outputs": [],
   "source": [
    "from qcodes_measurement import MultiChannelDevice "
   ]
  },
  {
   "cell_type": "markdown",
   "id": "2aa533f9",
   "metadata": {},
   "source": [
    "## QCoDes Investigation\n",
    "\n",
    "In this section, I perform some preliminary experiments to get to grips with QCoDes."
   ]
  },
  {
   "cell_type": "markdown",
   "id": "bd966d5e",
   "metadata": {},
   "source": [
    "### MOSFET: 2D Scan ($V_{gate} = -2$ to $2V$, $V_{SD} = -2$ to $2V$)"
   ]
  },
  {
   "cell_type": "code",
   "execution_count": 2,
   "id": "f1cf8158",
   "metadata": {},
   "outputs": [],
   "source": [
    "qdac_visa = \"ASRL/dev/ttyUSB0::INSTR\"\n",
    "dmm_visa = \"TCPIP0::169.254.4.10::inst0::INSTR\""
   ]
  },
  {
   "cell_type": "code",
   "execution_count": 3,
   "id": "219e7ce2",
   "metadata": {},
   "outputs": [
    {
     "name": "stdout",
     "output_type": "stream",
     "text": [
      "Connected to QDAC on ASRL/dev/ttyUSB0::INSTR at 18:05:33.\n",
      "Connected to: Agilent Technologies 34410A (serial:MY47007133, firmware:2.35-2.35-0.09-46-09) in 0.18s\n"
     ]
    }
   ],
   "source": [
    "transistor = MultiChannelDevice(qdac_visa, dmm_visa, print_dac_overview=False)  "
   ]
  },
  {
   "cell_type": "code",
   "execution_count": null,
   "id": "a7c177d3",
   "metadata": {
    "scrolled": false
   },
   "outputs": [],
   "source": [
    "transistor.dc_2d_gate_sweep(channel_number_1=17, channel_number_2=18, database_file=\"mosfet_measurements_2d.db\", \n",
    "                 max_voltage_ch1=-2, min_voltage_ch1 = 2, max_voltage_ch2=2, min_voltage_ch2 = -2, \n",
    "                 number_of_steps_ch1 = 100,number_of_steps_ch2 = 100\n",
    "transistor.close_connections()"
   ]
  },
  {
   "cell_type": "markdown",
   "id": "6d3992eb",
   "metadata": {},
   "source": [
    "### MOSFET: 1D Scan ($V_{gate} = 1.8V$, $V_{SD} = -2$ to $2V$)"
   ]
  },
  {
   "cell_type": "code",
   "execution_count": 4,
   "id": "4ac860f9",
   "metadata": {},
   "outputs": [
    {
     "data": {
      "application/vnd.jupyter.widget-view+json": {
       "model_id": "79886bb51872471babf1d6276f1e5dd3",
       "version_major": 2,
       "version_minor": 0
      },
      "text/plain": [
       "Channel 18 progress::   0%|          | 0/100 [00:00<?, ?it/s]"
      ]
     },
     "metadata": {},
     "output_type": "display_data"
    },
    {
     "name": "stdout",
     "output_type": "stream",
     "text": [
      "Starting experimental run with id: 5. \n",
      "Measurement complete.\n",
      "Any connection to the DAC and DMM has been closed.\n"
     ]
    }
   ],
   "source": [
    "transistor.dc_1d_gate_sweep(channel_number_1=17, channel_number_2=18, database_file=\"mosfet_measurements_1d.db\", \n",
    "                 fixed_voltage_ch1=-2, max_voltage_ch2=2, min_voltage_ch2 = -2,number_of_steps_ch2 = 100)\n",
    "transistor.close_connections()"
   ]
  }
 ],
 "metadata": {
  "kernelspec": {
   "display_name": "Python 3 (ipykernel)",
   "language": "python",
   "name": "python3"
  },
  "language_info": {
   "codemirror_mode": {
    "name": "ipython",
    "version": 3
   },
   "file_extension": ".py",
   "mimetype": "text/x-python",
   "name": "python",
   "nbconvert_exporter": "python",
   "pygments_lexer": "ipython3",
   "version": "3.9.12"
  },
  "vscode": {
   "interpreter": {
    "hash": "115c632a91dd05d1c9314fe31339e9be739ca5a9b01c3621ad03ece5b4310a5e"
   }
  }
 },
 "nbformat": 4,
 "nbformat_minor": 5
}

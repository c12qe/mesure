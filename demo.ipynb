{
 "cells": [
  {
   "cell_type": "markdown",
   "id": "47c8a431",
   "metadata": {},
   "source": [
    "# Autotuning Notebook"
   ]
  },
  {
   "cell_type": "markdown",
   "id": "f2e6963b",
   "metadata": {},
   "source": [
    "## Import Library"
   ]
  },
  {
   "cell_type": "code",
   "execution_count": 4,
   "id": "9a1de666",
   "metadata": {},
   "outputs": [],
   "source": [
    "from analysis import Analyser \n",
    "from measurement import Device "
   ]
  },
  {
   "cell_type": "markdown",
   "id": "2aa533f9",
   "metadata": {},
   "source": [
    "## QCoDes Investigation\n",
    "\n",
    "In this section, I perform some preliminary experiments to get to grips with QCoDes."
   ]
  },
  {
   "cell_type": "markdown",
   "id": "bd966d5e",
   "metadata": {},
   "source": [
    "### MOSFET: 2D Scan ($V_{gate} = -2$ to $2V$, $V_{SD} = -2$ to $2V$)"
   ]
  },
  {
   "cell_type": "code",
   "execution_count": 5,
   "id": "f1cf8158",
   "metadata": {},
   "outputs": [],
   "source": [
    "qdac_visa = \"ASRL/dev/ttyUSB0::INSTR\"\n",
    "dmm_visa = \"TCPIP0::169.254.4.10::inst0::INSTR\""
   ]
  },
  {
   "cell_type": "code",
   "execution_count": 6,
   "id": "a7c177d3",
   "metadata": {
    "scrolled": false
   },
   "outputs": [
    {
     "name": "stdout",
     "output_type": "stream",
     "text": [
      "Connected to QDAC on ASRL/dev/ttyUSB0::INSTR at 17:24:17.\n",
      "Connected to: Agilent Technologies 34410A (serial:MY47007133, firmware:2.35-2.35-0.09-46-09) in 0.16s\n"
     ]
    },
    {
     "data": {
      "application/vnd.jupyter.widget-view+json": {
       "model_id": "bf060a9875194a4ea5a46ef6ce758afa",
       "version_major": 2,
       "version_minor": 0
      },
      "text/plain": [
       "Channel 17 progress::   0%|          | 0/50 [00:00<?, ?it/s]"
      ]
     },
     "metadata": {},
     "output_type": "display_data"
    },
    {
     "data": {
      "application/vnd.jupyter.widget-view+json": {
       "model_id": "63c4d85154e547b7a332443b84147476",
       "version_major": 2,
       "version_minor": 0
      },
      "text/plain": [
       "Channel 18 progress::   0%|          | 0/50 [00:00<?, ?it/s]"
      ]
     },
     "metadata": {},
     "output_type": "display_data"
    },
    {
     "name": "stdout",
     "output_type": "stream",
     "text": [
      "Received SIGINT, Will interrupt at first suitable time. Send second SIGINT to interrupt immediately.\n",
      "KeyboardInterrupt\n",
      "Any connection to the DAC and DMM has been closed.\n",
      "Any connection to the DAC and DMM has been closed.\n"
     ]
    }
   ],
   "source": [
    "# You can pass your parameters as a dictionary\n",
    "sweep_parameters = {\n",
    "    'channel_number_1': 17,\n",
    "    'channel_number_2': 18,\n",
    "    'database_file':\"mosfet_measurements.db\",\n",
    "    'experiment_name':\"tests\",\n",
    "    'device_name': \"mosfet1\",\n",
    "    'max_voltage_ch1': 2, \n",
    "    'min_voltage_ch1': 0, \n",
    "    'max_voltage_ch2': 2, \n",
    "    'min_voltage_ch2': 0, \n",
    "    'number_of_steps_ch1': 50,\n",
    "    'number_of_steps_ch2': 50,\n",
    "}\n",
    "\n",
    "transistor = Device(qdac_visa, dmm_visa, print_dac_overview=False, connected_channels =[\"17\",\"18\"], investigation_channels=[\"17\",\"18\"]) \n",
    "transistor.dc_2d_gate_sweep(**sweep_parameters)\n",
    "\n",
    "# Or you can pass your parameters the traditional way, though the dictionary is more visually pleasing.\n",
    "# transistor.dc_2d_gate_sweep(channel_number_1=17, channel_number_2=18, device_name=\"mosfet1\", experiment_name=\"tests\", database_file=\"mosfet_measurements.db\", \n",
    "#                  max_voltage_ch1=-2, min_voltage_ch1 = 2, max_voltage_ch2=2, min_voltage_ch2 = -2, \n",
    "#                      number_of_steps_ch1 = 10,number_of_steps_ch2 = 10)\n",
    "\n",
    "transistor.close_connections()"
   ]
  },
  {
   "cell_type": "markdown",
   "id": "6d3992eb",
   "metadata": {},
   "source": [
    "### MOSFET: 1D Scan ($V_{gate} = 1.8V$, $V_{SD} = -2$ to $2V$)"
   ]
  },
  {
   "cell_type": "code",
   "execution_count": 7,
   "id": "4ac860f9",
   "metadata": {},
   "outputs": [
    {
     "name": "stdout",
     "output_type": "stream",
     "text": [
      "Connected to QDAC on ASRL/dev/ttyUSB0::INSTR at 17:24:27.\n",
      "Connected to: Agilent Technologies 34410A (serial:MY47007133, firmware:2.35-2.35-0.09-46-09) in 0.17s\n"
     ]
    },
    {
     "data": {
      "application/vnd.jupyter.widget-view+json": {
       "model_id": "ef4a8fd01d80474c989ea3023a3e5eed",
       "version_major": 2,
       "version_minor": 0
      },
      "text/plain": [
       "Channel 18 progress::   0%|          | 0/100 [00:00<?, ?it/s]"
      ]
     },
     "metadata": {},
     "output_type": "display_data"
    },
    {
     "name": "stdout",
     "output_type": "stream",
     "text": [
      "Starting experimental run with id: 7. \n",
      "Measurement complete.\n",
      "Any connection to the DAC and DMM has been closed.\n"
     ]
    }
   ],
   "source": [
    "transistor = Device(qdac_visa, dmm_visa, print_dac_overview=False, connected_channels =[\"17\",\"18\"], investigation_channels=[\"17\",\"18\"]) \n",
    "transistor.dc_1d_gate_sweep(channel_number_1=17, channel_number_2=18, device_name=\"mosfet1\",experiment_name=\"tests\", database_file=\"mosfet_measurements.db\", \n",
    "                 fixed_voltage_ch1=-2, max_voltage_ch2=2, min_voltage_ch2 = -2,number_of_steps_ch2 = 100)\n",
    "transistor.close_connections()"
   ]
  },
  {
   "cell_type": "markdown",
   "id": "c5c1a740",
   "metadata": {},
   "source": [
    "### Open database file to analyse (output experiments in database)"
   ]
  },
  {
   "cell_type": "code",
   "execution_count": 8,
   "id": "8439f3db",
   "metadata": {},
   "outputs": [
    {
     "name": "stdout",
     "output_type": "stream",
     "text": [
      "The experiments found in mosfet_measurements.db are:\n",
      "[tests#mosfet1#1@/mnt/mesure/measurement_results/mosfet_measurements.db\n",
      "----------------------------------------------------------------------\n",
      "1-2d_sweep-1-qdac_chan17_v,qdac_chan18_v,DMM_volt-100\n",
      "2-2d_sweep-2-qdac_chan17_v,qdac_chan18_v,DMM_volt-100\n",
      "3-2d_sweep-3-qdac_chan17_v,qdac_chan18_v,DMM_volt-10000\n",
      "4-2d_sweep-4-qdac_chan17_v,qdac_chan18_v,DMM_volt-10000\n",
      "5-2d_sweep-5-qdac_chan17_v,qdac_chan18_v,DMM_volt-2500\n",
      "6-2d_sweep-6-DMM_volt,qdac_chan17_v,qdac_chan18_v-0\n",
      "7-1d_sweep-7-qdac_chan17_v,qdac_chan18_v,DMM_volt-100]\n"
     ]
    }
   ],
   "source": [
    "analyse = Analyser(database_file = \"mosfet_measurements.db\")"
   ]
  },
  {
   "cell_type": "markdown",
   "id": "b627cb82",
   "metadata": {},
   "source": [
    "### See the datasets collected for each experiment"
   ]
  },
  {
   "cell_type": "code",
   "execution_count": null,
   "id": "375d1960",
   "metadata": {},
   "outputs": [],
   "source": [
    "analyse.datasets_in_experiments(experiment_name =\"tests\", device_name=\"mosfet1\")"
   ]
  },
  {
   "cell_type": "markdown",
   "id": "24dac381",
   "metadata": {},
   "source": [
    "### Visualise a specific dataset collected during an experiment"
   ]
  },
  {
   "cell_type": "code",
   "execution_count": 11,
   "id": "57e9bda3",
   "metadata": {},
   "outputs": [
    {
     "name": "stdout",
     "output_type": "stream",
     "text": [
      "The data collected for run 5 experiment is shown below:\n",
      "                             DMM_volt\n",
      "qdac_chan17_v qdac_chan18_v          \n",
      "0.0           0.000000       0.000083\n",
      "              0.040816       0.000084\n",
      "              0.081633       0.000083\n",
      "              0.122449       0.000082\n",
      "              0.163265       0.000082\n"
     ]
    },
    {
     "data": {
      "text/plain": [
       "True"
      ]
     },
     "execution_count": 11,
     "metadata": {},
     "output_type": "execute_result"
    },
    {
     "data": {
      "image/png": "[encoded data removed]",
      "text/plain": [
       "<Figure size 432x288 with 2 Axes>"
      ]
     },
     "metadata": {
      "needs_background": "light"
     },
     "output_type": "display_data"
    }
   ],
   "source": [
    "analyse.display_experiment_dataset(experiment_name =\"tests\", run_id=5)"
   ]
  },
  {
   "cell_type": "code",
   "execution_count": null,
   "id": "4c51f8bd",
   "metadata": {},
   "outputs": [],
   "source": [
    "# analyser\n",
    "#     experiments\n",
    "#         datasets_in_experiments"
   ]
  }
 ],
 "metadata": {
  "kernelspec": {
   "display_name": "Python 3 (ipykernel)",
   "language": "python",
   "name": "python3"
  },
  "language_info": {
   "codemirror_mode": {
    "name": "ipython",
    "version": 3
   },
   "file_extension": ".py",
   "mimetype": "text/x-python",
   "name": "python",
   "nbconvert_exporter": "python",
   "pygments_lexer": "ipython3",
   "version": "3.9.12"
  },
  "vscode": {
   "interpreter": {
    "hash": "115c632a91dd05d1c9314fe31339e9be739ca5a9b01c3621ad03ece5b4310a5e"
   }
  }
 },
 "nbformat": 4,
 "nbformat_minor": 5
}
